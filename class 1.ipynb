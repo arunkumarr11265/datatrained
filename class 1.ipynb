{
 "cells": [
  {
   "cell_type": "code",
   "execution_count": 2,
   "id": "899e17af",
   "metadata": {},
   "outputs": [
    {
     "data": {
      "text/plain": [
       "12024581"
      ]
     },
     "execution_count": 2,
     "metadata": {},
     "output_type": "execute_result"
    }
   ],
   "source": [
    "6235346+5789235"
   ]
  },
  {
   "cell_type": "markdown",
   "id": "ec03518c",
   "metadata": {},
   "source": [
    "# title"
   ]
  },
  {
   "cell_type": "markdown",
   "id": "d9030726",
   "metadata": {},
   "source": [
    "## headline"
   ]
  },
  {
   "cell_type": "markdown",
   "id": "762097a3",
   "metadata": {},
   "source": [
    "### headline"
   ]
  },
  {
   "cell_type": "code",
   "execution_count": 3,
   "id": "fb1def9f",
   "metadata": {},
   "outputs": [
    {
     "data": {
      "text/plain": [
       "9823"
      ]
     },
     "execution_count": 3,
     "metadata": {},
     "output_type": "execute_result"
    }
   ],
   "source": [
    "9889-66"
   ]
  },
  {
   "cell_type": "code",
   "execution_count": null,
   "id": "259f0ddc",
   "metadata": {},
   "outputs": [],
   "source": []
  }
 ],
 "metadata": {
  "kernelspec": {
   "display_name": "Python 3 (ipykernel)",
   "language": "python",
   "name": "python3"
  },
  "language_info": {
   "codemirror_mode": {
    "name": "ipython",
    "version": 3
   },
   "file_extension": ".py",
   "mimetype": "text/x-python",
   "name": "python",
   "nbconvert_exporter": "python",
   "pygments_lexer": "ipython3",
   "version": "3.9.12"
  }
 },
 "nbformat": 4,
 "nbformat_minor": 5
}
